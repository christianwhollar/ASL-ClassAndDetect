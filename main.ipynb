{
  "cells": [
    {
      "cell_type": "code",
      "execution_count": 20,
      "metadata": {
        "id": "xWugVGYcJ_E6"
      },
      "outputs": [],
      "source": [
        "# Run this cell only if working in Colab\n",
        "# Connects to any needed files from GitHub and Google Drive\n",
        "import os\n",
        "\n",
        "# Remove Colab default sample_data\n",
        "if os.path.exists('./sample_data'):\n",
        "  !rm -r ./sample_data\n",
        "\n",
        "repo_name = \"ASL-ClassAndDetect\" # Enter repo name\n",
        "\n",
        "if not os.path.isdir('./' + repo_name):\n",
        "  # Clone GitHub files to colab workspace\n",
        "  git_path = 'https://github.com/christianwhollar/ASL-ClassAndDetect.git'\n",
        "  !git clone \"{git_path}\"\n",
        "\n",
        "# Change working directory to location of notebook\n",
        "if not os.path.basename(os.getcwd()) == repo_name:\n",
        "  %cd \"{repo_name}\"\n",
        "  \n",
        "  # Install dependencies from requirements.txt file\n",
        "  !pip install -r requirements.txt"
      ]
    },
    {
      "cell_type": "code",
      "execution_count": 29,
      "metadata": {
        "id": "M5HDOtO2Pzyz"
      },
      "outputs": [],
      "source": [
        "from google.colab import files\n",
        "\n",
        "if 'kaggle.json' not in os.listdir():\n",
        "  files.upload()\n",
        "  ! mkdir ~/.kaggle\n",
        "  ! cp kaggle.json ~/.kaggle/\n",
        "  ! chmod 600 ~/.kaggle/kaggle.json"
      ]
    },
    {
      "cell_type": "code",
      "execution_count": 1,
      "metadata": {
        "colab": {
          "base_uri": "https://localhost:8080/"
        },
        "id": "tv5jwJKoKQZi",
        "outputId": "a95a0c1a-f66f-4782-bf09-6d2bca1d559f"
      },
      "outputs": [
        {
          "name": "stdout",
          "output_type": "stream",
          "text": [
            "Entering Test...\n",
            "Test 1 completed! 15 tests remaining...\n",
            "Test 2 completed! 14 tests remaining...\n",
            "Test 3 completed! 13 tests remaining...\n",
            "Test 4 completed! 12 tests remaining...\n",
            "Test 5 completed! 11 tests remaining...\n",
            "Test 6 completed! 10 tests remaining...\n",
            "Test 7 completed! 9 tests remaining...\n",
            "Test 8 completed! 8 tests remaining...\n",
            "Test 9 completed! 7 tests remaining...\n",
            "Test 10 completed! 6 tests remaining...\n",
            "Test 11 completed! 5 tests remaining...\n",
            "Test 12 completed! 4 tests remaining...\n",
            "Test 13 completed! 3 tests remaining...\n",
            "Test 14 completed! 2 tests remaining...\n",
            "Test 15 completed! 1 tests remaining...\n",
            "Test 16 completed! 0 tests remaining...\n",
            "[ 0  0  0 ... 38 38 38]\n",
            "[ 0  0  0 ... 38 38 38]\n",
            "0\n",
            "1\n",
            "2\n",
            "3\n",
            "4\n",
            "5\n",
            "6\n",
            "7\n",
            "8\n",
            "9\n",
            "10\n",
            "11\n",
            "12\n",
            "13\n",
            "14\n",
            "15\n",
            "16\n",
            "17\n",
            "18\n",
            "19\n",
            "20\n",
            "21\n",
            "22\n",
            "23\n",
            "24\n",
            "25\n",
            "26\n",
            "27\n",
            "28\n",
            "29\n",
            "30\n",
            "31\n",
            "32\n",
            "33\n",
            "34\n",
            "35\n",
            "36\n",
            "37\n",
            "38\n",
            "Test set accuracy is 0.957\n",
            "For class 1, recall is 0.95\n",
            "For class 10, recall is 0.98\n",
            "For class 2, recall is 0.87\n",
            "For class 3, recall is 0.84\n",
            "For class 4, recall is 0.91\n",
            "For class 5, recall is 0.85\n",
            "For class 6, recall is 0.78\n",
            "For class 7, recall is 0.69\n",
            "For class 8, recall is 0.62\n",
            "For class 9, recall is 0.92\n",
            "For class A, recall is 0.8474945533769063\n",
            "For class B, recall is 1.0\n",
            "For class C, recall is 1.0\n",
            "For class D, recall is 0.956\n",
            "For class E, recall is 0.998\n",
            "For class F, recall is 1.0\n",
            "For class G, recall is 0.988\n",
            "For class H, recall is 1.0\n",
            "For class I, recall is 1.0\n",
            "For class J, recall is 1.0\n",
            "For class K, recall is 0.984\n",
            "For class L, recall is 0.992\n",
            "For class M, recall is 0.998\n",
            "For class N, recall is 0.946\n",
            "For class O, recall is 0.994\n",
            "For class P, recall is 0.732\n",
            "For class Q, recall is 0.992\n",
            "For class R, recall is 1.0\n",
            "For class S, recall is 1.0\n",
            "For class T, recall is 0.98\n",
            "For class U, recall is 0.778\n",
            "For class V, recall is 0.928\n",
            "For class W, recall is 0.954\n",
            "For class X, recall is 0.99\n",
            "For class Y, recall is 0.948\n",
            "For class Z, recall is 0.972\n",
            "For class del, recall is 1.0\n",
            "For class nothing, recall is 1.0\n",
            "For class space, recall is 1.0\n"
          ]
        }
      ],
      "source": [
        "%run setup"
      ]
    },
    {
      "cell_type": "code",
      "execution_count": 4,
      "metadata": {},
      "outputs": [],
      "source": [
        "import json\n",
        "classes=ms.test_data.class_to_idx\n",
        "classes\n",
        "with open(\"classes.json\", \"w\") as outfile:\n",
        "    json.dump(classes, outfile)"
      ]
    },
    {
      "cell_type": "code",
      "execution_count": 7,
      "metadata": {},
      "outputs": [
        {
          "data": {
            "text/plain": [
              "dict_keys(['1', '10', '2', '3', '4', '5', '6', '7', '8', '9', 'A', 'B', 'C', 'D', 'E', 'F', 'G', 'H', 'I', 'J', 'K', 'L', 'M', 'N', 'O', 'P', 'Q', 'R', 'S', 'T', 'U', 'V', 'W', 'X', 'Y', 'Z', 'del', 'nothing', 'space'])"
            ]
          },
          "execution_count": 7,
          "metadata": {},
          "output_type": "execute_result"
        }
      ],
      "source": [
        "classes.keys()"
      ]
    },
    {
      "cell_type": "code",
      "execution_count": 10,
      "metadata": {},
      "outputs": [],
      "source": [
        "import numpy as np\n",
        "from skimage.transform import resize\n",
        "from skimage.io import imread"
      ]
    },
    {
      "cell_type": "code",
      "execution_count": 15,
      "metadata": {},
      "outputs": [
        {
          "name": "stdout",
          "output_type": "stream",
          "text": [
            "loading... category : 1\n",
            "loaded category:1 successfully\n",
            "loading... category : 10\n",
            "loaded category:10 successfully\n",
            "loading... category : 2\n",
            "loaded category:2 successfully\n",
            "loading... category : 3\n",
            "loaded category:3 successfully\n",
            "loading... category : 4\n",
            "loaded category:4 successfully\n",
            "loading... category : 5\n",
            "loaded category:5 successfully\n",
            "loading... category : 6\n",
            "loaded category:6 successfully\n",
            "loading... category : 7\n",
            "loaded category:7 successfully\n",
            "loading... category : 8\n",
            "loaded category:8 successfully\n",
            "loading... category : 9\n",
            "loaded category:9 successfully\n",
            "loading... category : A\n",
            "loaded category:A successfully\n",
            "loading... category : B\n",
            "loaded category:B successfully\n",
            "loading... category : C\n",
            "loaded category:C successfully\n",
            "loading... category : D\n",
            "loaded category:D successfully\n",
            "loading... category : E\n",
            "loaded category:E successfully\n",
            "loading... category : F\n",
            "loaded category:F successfully\n",
            "loading... category : G\n",
            "loaded category:G successfully\n",
            "loading... category : H\n",
            "loaded category:H successfully\n",
            "loading... category : I\n",
            "loaded category:I successfully\n",
            "loading... category : J\n",
            "loaded category:J successfully\n",
            "loading... category : K\n",
            "loaded category:K successfully\n",
            "loading... category : L\n"
          ]
        },
        {
          "ename": "KeyboardInterrupt",
          "evalue": "",
          "output_type": "error",
          "traceback": [
            "\u001b[0;31m---------------------------------------------------------------------------\u001b[0m",
            "\u001b[0;31mKeyboardInterrupt\u001b[0m                         Traceback (most recent call last)",
            "Cell \u001b[0;32mIn[15], line 19\u001b[0m\n\u001b[1;32m     17\u001b[0m \u001b[39mfor\u001b[39;00m img \u001b[39min\u001b[39;00m os\u001b[39m.\u001b[39mlistdir(path):\n\u001b[1;32m     18\u001b[0m     img_array\u001b[39m=\u001b[39mimread(os\u001b[39m.\u001b[39mpath\u001b[39m.\u001b[39mjoin(path,img))\n\u001b[0;32m---> 19\u001b[0m     img_resized\u001b[39m=\u001b[39mresize(img_array,(\u001b[39m150\u001b[39;49m,\u001b[39m150\u001b[39;49m,\u001b[39m3\u001b[39;49m))\n\u001b[1;32m     20\u001b[0m     flat_data_arr\u001b[39m.\u001b[39mappend(img_resized\u001b[39m.\u001b[39mflatten())\n\u001b[1;32m     21\u001b[0m     target_arr\u001b[39m.\u001b[39mappend(value)\n",
            "File \u001b[0;32m~/Desktop/540/ASL-ClassAndDetect/.venv/lib/python3.10/site-packages/skimage/transform/_warps.py:185\u001b[0m, in \u001b[0;36mresize\u001b[0;34m(image, output_shape, order, mode, cval, clip, preserve_range, anti_aliasing, anti_aliasing_sigma)\u001b[0m\n\u001b[1;32m    182\u001b[0m     filtered \u001b[39m=\u001b[39m image\n\u001b[1;32m    184\u001b[0m zoom_factors \u001b[39m=\u001b[39m [\u001b[39m1\u001b[39m \u001b[39m/\u001b[39m f \u001b[39mfor\u001b[39;00m f \u001b[39min\u001b[39;00m factors]\n\u001b[0;32m--> 185\u001b[0m out \u001b[39m=\u001b[39m ndi\u001b[39m.\u001b[39;49mzoom(filtered, zoom_factors, order\u001b[39m=\u001b[39;49morder, mode\u001b[39m=\u001b[39;49mndi_mode,\n\u001b[1;32m    186\u001b[0m                cval\u001b[39m=\u001b[39;49mcval, grid_mode\u001b[39m=\u001b[39;49m\u001b[39mTrue\u001b[39;49;00m)\n\u001b[1;32m    188\u001b[0m _clip_warp_output(image, out, mode, cval, clip)\n\u001b[1;32m    190\u001b[0m \u001b[39mreturn\u001b[39;00m out\n",
            "File \u001b[0;32m~/Desktop/540/ASL-ClassAndDetect/.venv/lib/python3.10/site-packages/scipy/ndimage/_interpolation.py:819\u001b[0m, in \u001b[0;36mzoom\u001b[0;34m(input, zoom, output, order, mode, cval, prefilter, grid_mode)\u001b[0m\n\u001b[1;32m    815\u001b[0m zoom \u001b[39m=\u001b[39m numpy\u001b[39m.\u001b[39mdivide(zoom_nominator, zoom_div,\n\u001b[1;32m    816\u001b[0m                     out\u001b[39m=\u001b[39mnumpy\u001b[39m.\u001b[39mones_like(\u001b[39minput\u001b[39m\u001b[39m.\u001b[39mshape, dtype\u001b[39m=\u001b[39mnumpy\u001b[39m.\u001b[39mfloat64),\n\u001b[1;32m    817\u001b[0m                     where\u001b[39m=\u001b[39mzoom_div \u001b[39m!=\u001b[39m \u001b[39m0\u001b[39m)\n\u001b[1;32m    818\u001b[0m zoom \u001b[39m=\u001b[39m numpy\u001b[39m.\u001b[39mascontiguousarray(zoom)\n\u001b[0;32m--> 819\u001b[0m _nd_image\u001b[39m.\u001b[39;49mzoom_shift(filtered, zoom, \u001b[39mNone\u001b[39;49;00m, output, order, mode, cval, npad,\n\u001b[1;32m    820\u001b[0m                      grid_mode)\n\u001b[1;32m    821\u001b[0m \u001b[39mreturn\u001b[39;00m output\n",
            "\u001b[0;31mKeyboardInterrupt\u001b[0m: "
          ]
        }
      ],
      "source": [
        "import json\n",
        "import os\n",
        "import pandas as pd\n",
        "\n",
        "with open('classes.json', 'r') as f:\n",
        "        classes = json.load(f)\n",
        "        \n",
        "flat_data_arr=[] #input array\n",
        "target_arr=[] #output array\n",
        "\n",
        "datadir=os.getcwd() + '/data/processed/train'\n",
        "\n",
        "#path which contains all the categories of images\n",
        "for key, value in classes.items():\n",
        "    print(f'loading... category : {key}')\n",
        "    path=os.path.join(datadir,key)\n",
        "    for img in os.listdir(path):\n",
        "        img_array=imread(os.path.join(path,img))\n",
        "        img_resized=resize(img_array,(150,150,3))\n",
        "        flat_data_arr.append(img_resized.flatten())\n",
        "        target_arr.append(value)\n",
        "    print(f'loaded category:{key} successfully')\n",
        "    \n",
        "flat_data=np.array(flat_data_arr)\n",
        "target=np.array(target_arr)"
      ]
    },
    {
      "cell_type": "code",
      "execution_count": null,
      "metadata": {},
      "outputs": [],
      "source": [
        "import pandas as pd\n",
        "import os\n",
        "from skimage.transform import resize\n",
        "from skimage.io import imread\n",
        "import numpy as np\n",
        "import matplotlib.pyplot as plt\n",
        "from sklearn import svm\n",
        "from sklearn.model_selection import GridSearchCV\n",
        "from sklearn.model_selection import train_test_split\n",
        "from sklearn.metrics import accuracy_score\n",
        "from sklearn.metrics import classification_report"
      ]
    },
    {
      "cell_type": "code",
      "execution_count": null,
      "metadata": {},
      "outputs": [],
      "source": [
        "#dataframe\n",
        "df=pd.DataFrame(flat_data) \n",
        "df['Target']=target\n",
        "df.shape\n",
        "\n",
        "#input data \n",
        "x=df.iloc[:,:-1] \n",
        "#output data\n",
        "y=df.iloc[:,-1]"
      ]
    },
    {
      "cell_type": "code",
      "execution_count": null,
      "metadata": {},
      "outputs": [],
      "source": [
        "x_train,x_test,y_train,y_test=train_test_split(x,y,test_size=0.20,\n",
        "                                               random_state=0,\n",
        "                                               stratify=y)"
      ]
    },
    {
      "cell_type": "code",
      "execution_count": null,
      "metadata": {},
      "outputs": [],
      "source": [
        "# Defining the parameters grid for GridSearchCV\n",
        "param_grid={'C':[0.1,1,10,100],\n",
        "            'gamma':[0.0001,0.001,0.1,1],\n",
        "            'kernel':['rbf','poly']}\n",
        "  \n",
        "# Creating a support vector classifier\n",
        "svc=svm.SVC(probability=True)\n",
        "  \n",
        "# Creating a model using GridSearchCV with the parameters grid\n",
        "model=GridSearchCV(svc,param_grid)"
      ]
    },
    {
      "cell_type": "code",
      "execution_count": null,
      "metadata": {},
      "outputs": [],
      "source": [
        "# Training the model using the training data\n",
        "model.fit(x_train,y_train)"
      ]
    },
    {
      "cell_type": "code",
      "execution_count": null,
      "metadata": {},
      "outputs": [],
      "source": [
        "# Testing the model using the testing data\n",
        "y_pred = model.predict(x_test)\n",
        "  \n",
        "# Calculating the accuracy of the model\n",
        "accuracy = accuracy_score(y_pred, y_test)\n",
        "  \n",
        "# Print the accuracy of the model\n",
        "print(f\"The model is {accuracy*100}% accurate\")"
      ]
    }
  ],
  "metadata": {
    "colab": {
      "provenance": []
    },
    "kernelspec": {
      "display_name": "Python 3",
      "name": "python3"
    },
    "language_info": {
      "codemirror_mode": {
        "name": "ipython",
        "version": 3
      },
      "file_extension": ".py",
      "mimetype": "text/x-python",
      "name": "python",
      "nbconvert_exporter": "python",
      "pygments_lexer": "ipython3",
      "version": "3.10.1"
    }
  },
  "nbformat": 4,
  "nbformat_minor": 0
}
