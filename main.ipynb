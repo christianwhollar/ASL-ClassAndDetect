{
  "cells": [
    {
      "cell_type": "code",
      "execution_count": 20,
      "metadata": {
        "id": "xWugVGYcJ_E6"
      },
      "outputs": [],
      "source": [
        "# Run this cell only if working in Colab\n",
        "# Connects to any needed files from GitHub and Google Drive\n",
        "import os\n",
        "\n",
        "# Remove Colab default sample_data\n",
        "if os.path.exists('./sample_data'):\n",
        "  !rm -r ./sample_data\n",
        "\n",
        "repo_name = \"ASL-ClassAndDetect\" # Enter repo name\n",
        "\n",
        "if not os.path.isdir('./' + repo_name):\n",
        "  # Clone GitHub files to colab workspace\n",
        "  git_path = 'https://github.com/christianwhollar/ASL-ClassAndDetect.git'\n",
        "  !git clone \"{git_path}\"\n",
        "\n",
        "  # Install dependencies from requirements.txt file\n",
        "  !pip install -r requirements.txt\n",
        "\n",
        "# Change working directory to location of notebook\n",
        "if not os.path.basename(os.getcwd()) == repo_name:\n",
        "  %cd \"{repo_name}\""
      ]
    },
    {
      "cell_type": "code",
      "execution_count": 29,
      "metadata": {
        "id": "M5HDOtO2Pzyz"
      },
      "outputs": [],
      "source": [
        "from google.colab import files\n",
        "\n",
        "if 'kaggle.json' not in os.listdir():\n",
        "  files.upload()\n",
        "  ! mkdir ~/.kaggle\n",
        "  ! cp kaggle.json ~/.kaggle/\n",
        "  ! chmod 600 ~/.kaggle/kaggle.json"
      ]
    },
    {
      "cell_type": "code",
      "execution_count": null,
      "metadata": {
        "colab": {
          "base_uri": "https://localhost:8080/"
        },
        "id": "tv5jwJKoKQZi",
        "outputId": "a95a0c1a-f66f-4782-bf09-6d2bca1d559f"
      },
      "outputs": [],
      "source": [
        "%run setup"
      ]
    }
  ],
  "metadata": {
    "colab": {
      "provenance": []
    },
    "kernelspec": {
      "display_name": "Python 3",
      "name": "python3"
    },
    "language_info": {
      "codemirror_mode": {
        "name": "ipython",
        "version": 3
      },
      "file_extension": ".py",
      "mimetype": "text/x-python",
      "name": "python",
      "nbconvert_exporter": "python",
      "pygments_lexer": "ipython3",
      "version": "3.10.1"
    }
  },
  "nbformat": 4,
  "nbformat_minor": 0
}
