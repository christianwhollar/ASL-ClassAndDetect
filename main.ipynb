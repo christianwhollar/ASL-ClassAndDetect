{
  "cells": [
    {
      "cell_type": "code",
      "execution_count": 20,
      "metadata": {
        "id": "xWugVGYcJ_E6"
      },
      "outputs": [],
      "source": [
        "# Run this cell only if working in Colab\n",
        "# Connects to any needed files from GitHub and Google Drive\n",
        "import os\n",
        "\n",
        "# Remove Colab default sample_data\n",
        "if os.path.exists('./sample_data'):\n",
        "  !rm -r ./sample_data\n",
        "\n",
        "repo_name = \"ASL-ClassAndDetect\" # Enter repo name\n",
        "\n",
        "if not os.path.isdir('./' + repo_name):\n",
        "  # Clone GitHub files to colab workspace\n",
        "  git_path = 'https://github.com/christianwhollar/ASL-ClassAndDetect.git'\n",
        "  !git clone \"{git_path}\"\n",
        "\n",
        "  # Install dependencies from requirements.txt file\n",
        "  #!pip install -r \"{os.path.join(repo_name,'requirements.txt')}\"\n",
        "\n",
        "# Change working directory to location of notebook\n",
        "if not os.path.basename(os.getcwd()) == repo_name:\n",
        "  %cd \"{repo_name}\""
      ]
    },
    {
      "cell_type": "code",
      "execution_count": 29,
      "metadata": {
        "id": "M5HDOtO2Pzyz"
      },
      "outputs": [],
      "source": [
        "from google.colab import files\n",
        "\n",
        "if 'kaggle.json' not in os.listdir():\n",
        "  files.upload()\n",
        "  ! mkdir ~/.kaggle\n",
        "  ! cp kaggle.json ~/.kaggle/\n",
        "  ! chmod 600 ~/.kaggle/kaggle.json"
      ]
    },
    {
      "cell_type": "code",
      "execution_count": 1,
      "metadata": {
        "colab": {
          "base_uri": "https://localhost:8080/"
        },
        "id": "tv5jwJKoKQZi",
        "outputId": "a95a0c1a-f66f-4782-bf09-6d2bca1d559f"
      },
      "outputs": [
        {
          "name": "stdout",
          "output_type": "stream",
          "text": [
            "Kaggle Dataset Downloading...\n",
            "Kaggle Dataset Download Complete!\n"
          ]
        }
      ],
      "source": [
        "%run setup"
      ]
    },
    {
      "cell_type": "code",
      "execution_count": 26,
      "metadata": {
        "colab": {
          "base_uri": "https://localhost:8080/"
        },
        "id": "f8vfyO3tNtzy",
        "outputId": "0c12a81a-5394-4f1b-f99e-6ade36d60d1a"
      },
      "outputs": [
        {
          "data": {
            "text/plain": [
              "['.DS_Store',\n",
              " '.gitignore',\n",
              " 'kaggle.json',\n",
              " 'data',\n",
              " 'README.md',\n",
              " 'ASL-ClassAndDetect',\n",
              " 'constants.py',\n",
              " '.ipynb_checkpoints',\n",
              " '.git',\n",
              " 'main.ipynb',\n",
              " 'setup.py',\n",
              " '__pycache__',\n",
              " 'scripts',\n",
              " 'LICENSE']"
            ]
          },
          "execution_count": 26,
          "metadata": {},
          "output_type": "execute_result"
        }
      ],
      "source": []
    },
    {
      "cell_type": "code",
      "execution_count": null,
      "metadata": {
        "id": "9gcEobetRNYA"
      },
      "outputs": [],
      "source": []
    }
  ],
  "metadata": {
    "colab": {
      "provenance": []
    },
    "kernelspec": {
      "display_name": "Python 3",
      "name": "python3"
    },
    "language_info": {
      "codemirror_mode": {
        "name": "ipython",
        "version": 3
      },
      "file_extension": ".py",
      "mimetype": "text/x-python",
      "name": "python",
      "nbconvert_exporter": "python",
      "pygments_lexer": "ipython3",
      "version": "3.10.1"
    }
  },
  "nbformat": 4,
  "nbformat_minor": 0
}
