{
  "cells": [
    {
      "attachments": {},
      "cell_type": "markdown",
      "metadata": {},
      "source": [
        "## Deep Learning / Non-Deep Learning Image Classification for ASL Letters & Numbers\n",
        "#### Christian Hollar (christian.hollar@duke.edu)"
      ]
    },
    {
      "attachments": {},
      "cell_type": "markdown",
      "metadata": {},
      "source": [
        "#### The following code is meant to be run in Colab:\n",
        "* Removes ./sample_data\n",
        "* Downloads Github Repo (https://github.com/christianwhollar/ASL-Classification)\n",
        "* Changes Repository & Downloads Reqs"
      ]
    },
    {
      "cell_type": "code",
      "execution_count": 20,
      "metadata": {
        "id": "xWugVGYcJ_E6"
      },
      "outputs": [],
      "source": [
        "import os\n",
        "\n",
        "# Remove Colab default sample_data\n",
        "if os.path.exists('./sample_data'):\n",
        "  !rm -r ./sample_data\n",
        "\n",
        "repo_name = \"ASL-Classification\" # Repository Name\n",
        "\n",
        "if not os.path.isdir('./' + repo_name):\n",
        "  # Clone GitHub Files\n",
        "  git_path = 'https://github.com/christianwhollar/ASL-Classification.git'\n",
        "  !git clone \"{git_path}\"\n",
        "\n",
        "# Change to new directory\n",
        "if not os.path.basename(os.getcwd()) == repo_name:\n",
        "  %cd \"{repo_name}\"\n",
        "  \n",
        "  # Install dependencies from requirements.txt file\n",
        "  !pip install -r requirements.txt"
      ]
    },
    {
      "attachments": {},
      "cell_type": "markdown",
      "metadata": {},
      "source": [
        "A kaggle.json is required to download the kaggle datasets and will be uploaded in the following code block. Instructions can be found [here](https://www.kaggle.com/docs/api)."
      ]
    },
    {
      "cell_type": "code",
      "execution_count": 29,
      "metadata": {
        "id": "M5HDOtO2Pzyz"
      },
      "outputs": [],
      "source": [
        "from google.colab import files\n",
        "\n",
        "if 'kaggle.json' not in os.listdir():\n",
        "  files.upload()\n",
        "  ! mkdir ~/.kaggle\n",
        "  ! cp kaggle.json ~/.kaggle/\n",
        "  ! chmod 600 ~/.kaggle/kaggle.json"
      ]
    },
    {
      "attachments": {},
      "cell_type": "markdown",
      "metadata": {},
      "source": [
        "#### The following code block will run the setup.py file which is responsible for the following:\n",
        "* Get Data\n",
        "* Build Features\n",
        "* Train Model\n",
        "\n",
        "This process is applied to both the Deep Learning and Non-Deep Learning models."
      ]
    },
    {
      "cell_type": "code",
      "execution_count": null,
      "metadata": {
        "colab": {
          "base_uri": "https://localhost:8080/"
        },
        "id": "tv5jwJKoKQZi",
        "outputId": "a95a0c1a-f66f-4782-bf09-6d2bca1d559f"
      },
      "outputs": [],
      "source": [
        "%run setup"
      ]
    },
    {
      "attachments": {},
      "cell_type": "markdown",
      "metadata": {},
      "source": [
        "#### The following code block will run the StreamLit Application:\n",
        "* **streamlit.Slider:** Drag the slider to select desired model\n",
        "* **streamlit.FileUploader:** Drag and drop image file to upload\n",
        "\n",
        "Upon upload, the application will process and show your image along with a the predicted class.\n"
      ]
    },
    {
      "cell_type": "code",
      "execution_count": null,
      "metadata": {},
      "outputs": [],
      "source": [
        "!streamlit run LearnASL.py"
      ]
    }
  ],
  "metadata": {
    "colab": {
      "provenance": []
    },
    "kernelspec": {
      "display_name": "Python 3",
      "name": "python3"
    },
    "language_info": {
      "codemirror_mode": {
        "name": "ipython",
        "version": 3
      },
      "file_extension": ".py",
      "mimetype": "text/x-python",
      "name": "python",
      "nbconvert_exporter": "python",
      "pygments_lexer": "ipython3",
      "version": "3.10.1"
    }
  },
  "nbformat": 4,
  "nbformat_minor": 0
}
